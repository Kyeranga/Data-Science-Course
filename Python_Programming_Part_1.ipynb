{
  "nbformat": 4,
  "nbformat_minor": 0,
  "metadata": {
    "colab": {
      "provenance": [],
      "authorship_tag": "ABX9TyMvjnbllHOwBrtENGyrsfR9",
      "include_colab_link": true
    },
    "kernelspec": {
      "name": "python3",
      "display_name": "Python 3"
    },
    "language_info": {
      "name": "python"
    }
  },
  "cells": [
    {
      "cell_type": "markdown",
      "metadata": {
        "id": "view-in-github",
        "colab_type": "text"
      },
      "source": [
        "<a href=\"https://colab.research.google.com/github/Kyeranga/Data-Science-Course/blob/main/Python_Programming_Part_1.ipynb\" target=\"_parent\"><img src=\"https://colab.research.google.com/assets/colab-badge.svg\" alt=\"Open In Colab\"/></a>"
      ]
    },
    {
      "cell_type": "markdown",
      "source": [
        "Python Programming Part 1"
      ],
      "metadata": {
        "id": "sNtxOv2kEy0S"
      }
    },
    {
      "cell_type": "code",
      "source": [
        "# Printing Hello World\n",
        "print(\"Hello World\")"
      ],
      "metadata": {
        "colab": {
          "base_uri": "https://localhost:8080/"
        },
        "id": "H5fD-K4rGajh",
        "outputId": "2698154e-3f1f-4a17-fd8e-67771f1a87b7"
      },
      "execution_count": 1,
      "outputs": [
        {
          "output_type": "stream",
          "name": "stdout",
          "text": [
            "Hello World\n"
          ]
        }
      ]
    },
    {
      "cell_type": "code",
      "source": [
        "\"\"\"\n",
        "This is my\n",
        "first program\n",
        "in python\n",
        "\"\"\"\n"
      ],
      "metadata": {
        "id": "DMsehKukIBc-"
      },
      "execution_count": null,
      "outputs": []
    },
    {
      "cell_type": "code",
      "source": [
        "# Variables\n",
        "x =\"2\"\n",
        "y = 2\n",
        "z = 2.5\n",
        "name = \"Derrick\"\n",
        "\n",
        "type (y)"
      ],
      "metadata": {
        "colab": {
          "base_uri": "https://localhost:8080/"
        },
        "id": "fyIJ49YAKvXE",
        "outputId": "b011f72c-6c1c-4e1a-df90-0c9bc8ffdd42"
      },
      "execution_count": 8,
      "outputs": [
        {
          "output_type": "execute_result",
          "data": {
            "text/plain": [
              "int"
            ]
          },
          "metadata": {},
          "execution_count": 8
        }
      ]
    },
    {
      "cell_type": "code",
      "source": [
        "# Getting the type of data stored in the above variables\n",
        "type (x)"
      ],
      "metadata": {
        "colab": {
          "base_uri": "https://localhost:8080/"
        },
        "id": "TnrqRQRaNfUb",
        "outputId": "2e4841ee-f94f-4e41-bf67-e4def54e5f65"
      },
      "execution_count": 5,
      "outputs": [
        {
          "output_type": "execute_result",
          "data": {
            "text/plain": [
              "str"
            ]
          },
          "metadata": {},
          "execution_count": 5
        }
      ]
    },
    {
      "cell_type": "code",
      "source": [
        "type (z)"
      ],
      "metadata": {
        "colab": {
          "base_uri": "https://localhost:8080/"
        },
        "id": "Hrtr5ssgNk2V",
        "outputId": "14a42e9a-3444-46c0-b710-9a95801830ed"
      },
      "execution_count": 9,
      "outputs": [
        {
          "output_type": "execute_result",
          "data": {
            "text/plain": [
              "float"
            ]
          },
          "metadata": {},
          "execution_count": 9
        }
      ]
    },
    {
      "cell_type": "code",
      "source": [
        "type (name)"
      ],
      "metadata": {
        "colab": {
          "base_uri": "https://localhost:8080/"
        },
        "id": "tT__LHXwN9tB",
        "outputId": "8a7a3fb6-ce61-4142-884d-4630e85e2abd"
      },
      "execution_count": 10,
      "outputs": [
        {
          "output_type": "execute_result",
          "data": {
            "text/plain": [
              "str"
            ]
          },
          "metadata": {},
          "execution_count": 10
        }
      ]
    },
    {
      "cell_type": "code",
      "source": [
        "# Printing the variables\n",
        "print (x)\n",
        "print (y)\n",
        "print (z)\n",
        "print (name)"
      ],
      "metadata": {
        "colab": {
          "base_uri": "https://localhost:8080/"
        },
        "id": "SpQntKz3OKkk",
        "outputId": "69609ceb-f543-407b-fea0-f11a2ed3a98c"
      },
      "execution_count": 13,
      "outputs": [
        {
          "output_type": "stream",
          "name": "stdout",
          "text": [
            "2\n",
            "2\n",
            "2.5\n",
            "Derrick\n"
          ]
        }
      ]
    },
    {
      "cell_type": "code",
      "source": [
        "# Printing \"x\"\n",
        "print (\"x\")"
      ],
      "metadata": {
        "colab": {
          "base_uri": "https://localhost:8080/"
        },
        "id": "zOTXu3BDPu1A",
        "outputId": "ec870b9f-1cc9-4544-ac38-6e7783f2d94f"
      },
      "execution_count": 14,
      "outputs": [
        {
          "output_type": "stream",
          "name": "stdout",
          "text": [
            "x\n"
          ]
        }
      ]
    },
    {
      "cell_type": "code",
      "source": [
        "# First Name = \"Derrick\"\n",
        "first_name = \"Derrick\"\n",
        "second_name = \"Kyeranga\"\n",
        "name = first_name +\" \" + second_name\n",
        "print (name)"
      ],
      "metadata": {
        "colab": {
          "base_uri": "https://localhost:8080/"
        },
        "id": "5RglnXdhQFLD",
        "outputId": "f1f8c2ab-208a-432c-d31e-7eac10096e75"
      },
      "execution_count": 16,
      "outputs": [
        {
          "output_type": "stream",
          "name": "stdout",
          "text": [
            "Derrick Kyeranga\n"
          ]
        }
      ]
    },
    {
      "cell_type": "code",
      "source": [
        "m = 2 + y\n",
        "print (m)"
      ],
      "metadata": {
        "colab": {
          "base_uri": "https://localhost:8080/"
        },
        "id": "1l-WHr2kRu4m",
        "outputId": "03062b9b-80df-4809-abf7-a4966c23730d"
      },
      "execution_count": 18,
      "outputs": [
        {
          "output_type": "stream",
          "name": "stdout",
          "text": [
            "4\n"
          ]
        }
      ]
    }
  ]
}